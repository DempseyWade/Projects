{
 "cells": [
  {
   "cell_type": "markdown",
   "metadata": {},
   "source": [
    "# Module 1 Live Coding Assignment:\n",
    "## Introduction to Python"
   ]
  },
  {
   "cell_type": "markdown",
   "metadata": {},
   "source": [
    "#### Dempsey Wade"
   ]
  },
  {
   "cell_type": "markdown",
   "metadata": {},
   "source": [
    "## Q1"
   ]
  },
  {
   "cell_type": "code",
   "execution_count": 74,
   "metadata": {},
   "outputs": [
    {
     "name": "stdout",
     "output_type": "stream",
     "text": [
      "41.041880706025566\n",
      "<class 'float'>\n"
     ]
    }
   ],
   "source": [
    "result = 384/16.43\n",
    "result += 17.67\n",
    "print(result)\n",
    "print(type(result))"
   ]
  },
  {
   "cell_type": "markdown",
   "metadata": {},
   "source": [
    "## Q2"
   ]
  },
  {
   "cell_type": "code",
   "execution_count": 75,
   "metadata": {},
   "outputs": [
    {
     "name": "stdout",
     "output_type": "stream",
     "text": [
      "[2, 'Python', 23.54, 'list']\n"
     ]
    }
   ],
   "source": [
    "my_list = [2, \"Python\", 23.54, 34, \"list\"]\n",
    "del(my_list[-2])\n",
    "print(my_list)"
   ]
  },
  {
   "cell_type": "markdown",
   "metadata": {},
   "source": [
    "## Q3"
   ]
  },
  {
   "cell_type": "code",
   "execution_count": 76,
   "metadata": {},
   "outputs": [
    {
     "name": "stdout",
     "output_type": "stream",
     "text": [
      "(2, 3, 4, 20, 6)\n"
     ]
    }
   ],
   "source": [
    "my_tuple = tuple(range(2,16))\n",
    "my_sliced_tuple = my_tuple[0:5]\n",
    "\n",
    "my_list = []\n",
    "for i in my_sliced_tuple:\n",
    "    my_list.append(i)\n",
    "\n",
    "my_list[-2] = 20\n",
    "my_sliced_tuple = tuple(my_list)\n",
    "\n",
    "print(my_sliced_tuple)"
   ]
  },
  {
   "cell_type": "markdown",
   "metadata": {},
   "source": [
    "## Q4"
   ]
  },
  {
   "cell_type": "code",
   "execution_count": 77,
   "metadata": {},
   "outputs": [
    {
     "name": "stdout",
     "output_type": "stream",
     "text": [
      "apple\n",
      "peach\n",
      "cherry\n",
      "banana\n"
     ]
    }
   ],
   "source": [
    "fruits = [\"apple\", \"peach\", \"cherry\",\"banana\", \"pear\", \"orange\",\"lemon\"]\n",
    "\n",
    "for i in fruits:\n",
    "    if i == \"pear\":\n",
    "        break\n",
    "    print(i)"
   ]
  },
  {
   "cell_type": "markdown",
   "metadata": {},
   "source": [
    "## Q5"
   ]
  },
  {
   "cell_type": "code",
   "execution_count": 78,
   "metadata": {},
   "outputs": [
    {
     "name": "stdout",
     "output_type": "stream",
     "text": [
      "<class 'dict'>\n",
      "{'Colorado': 'Avalanche', 'Boston': 'Bruins', 'Edmonton': 'Oilers', 'Minnesota': 'Twins'}\n",
      "{'Colorado': 'Avalanche', 'Boston': 'Bruins', 'Edmonton': 'Oilers', 'Minnesota': 'Wild'}\n"
     ]
    }
   ],
   "source": [
    "my_dict = {\"Colorado\":\"Avalanche\",\"Boston\":\"Bruins\",\"Edmonton\":\"Oilers\",\"Minnesota\":\"Twins\"}\n",
    "\n",
    "print(type(my_dict))\n",
    "print(my_dict)\n",
    "my_dict[\"Minnesota\"] = \"Wild\"\n",
    "print(my_dict)"
   ]
  },
  {
   "cell_type": "markdown",
   "metadata": {},
   "source": [
    "## Q6"
   ]
  },
  {
   "cell_type": "code",
   "execution_count": 79,
   "metadata": {},
   "outputs": [
    {
     "name": "stdout",
     "output_type": "stream",
     "text": [
      "78\n"
     ]
    }
   ],
   "source": [
    "i = 0\n",
    "sum = 0\n",
    "while i <= 12:\n",
    "    sum += i\n",
    "    i +=1\n",
    "else:\n",
    "    print(sum)"
   ]
  },
  {
   "cell_type": "markdown",
   "metadata": {},
   "source": [
    "## Q7"
   ]
  },
  {
   "cell_type": "code",
   "execution_count": 80,
   "metadata": {},
   "outputs": [
    {
     "name": "stdout",
     "output_type": "stream",
     "text": [
      "2\n",
      "2\n",
      "5\n",
      "6\n",
      "4\n",
      "8\n",
      "20\n",
      "24\n",
      "6\n",
      "12\n",
      "30\n",
      "12\n",
      "7\n",
      "14\n",
      "35\n",
      "42\n"
     ]
    }
   ],
   "source": [
    "num1 = [1,4,6,7]\n",
    "num2 = [1,2,5,6]\n",
    "\n",
    "for x in num1:\n",
    "    for y in num2:\n",
    "        if x == y:\n",
    "            print(x+y)\n",
    "        else:\n",
    "            print(x*y)"
   ]
  },
  {
   "cell_type": "markdown",
   "metadata": {},
   "source": [
    "## Q8"
   ]
  },
  {
   "cell_type": "code",
   "execution_count": 81,
   "metadata": {},
   "outputs": [
    {
     "name": "stdout",
     "output_type": "stream",
     "text": [
      "121\n",
      "Error, the passed value is not odd\n"
     ]
    }
   ],
   "source": [
    "def square_odd_number(x):\n",
    "    if x%2 == 0:\n",
    "        return \"Error, the passed value is not odd\"\n",
    "    else:\n",
    "        return x*x\n",
    "\n",
    "print(square_odd_number(11))\n",
    "print(square_odd_number(14))"
   ]
  },
  {
   "cell_type": "markdown",
   "metadata": {},
   "source": [
    "## Extra question"
   ]
  },
  {
   "cell_type": "code",
   "execution_count": 82,
   "metadata": {},
   "outputs": [
    {
     "name": "stdout",
     "output_type": "stream",
     "text": [
      "6\n",
      "nozamA\n",
      "5\n",
      "efiL\n",
      "10\n"
     ]
    }
   ],
   "source": [
    "# Creat a function called my_func that will take a string and \n",
    "# check if that string contains the letter \"g\"\n",
    "# If it does, return the length of the string\n",
    "# If it doesn't, return the reverse of that string\n",
    "# Test your function with the words: \"Google\", \"Amazon\", \n",
    "# \"Games\", \"Life\", and \"Generosity\"\n",
    "\n",
    "def my_func(s):\n",
    "    x = s.upper()\n",
    "    if \"G\" in x:\n",
    "        return len(s)\n",
    "    else:\n",
    "        return s[::-1]\n",
    "    \n",
    "print(my_func(\"google\"))\n",
    "print(my_func(\"Amazon\"))\n",
    "print(my_func(\"Games\"))\n",
    "print(my_func(\"Life\"))\n",
    "print(my_func(\"Generosity\"))"
   ]
  },
  {
   "cell_type": "code",
   "execution_count": null,
   "metadata": {},
   "outputs": [],
   "source": []
  }
 ],
 "metadata": {
  "kernelspec": {
   "display_name": "Python 3",
   "language": "python",
   "name": "python3"
  },
  "language_info": {
   "codemirror_mode": {
    "name": "ipython",
    "version": 3
   },
   "file_extension": ".py",
   "mimetype": "text/x-python",
   "name": "python",
   "nbconvert_exporter": "python",
   "pygments_lexer": "ipython3",
   "version": "3.7.6"
  }
 },
 "nbformat": 4,
 "nbformat_minor": 4
}
